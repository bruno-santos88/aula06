{
 "cells": [
  {
   "cell_type": "code",
   "execution_count": 11,
   "metadata": {},
   "outputs": [
    {
     "name": "stdout",
     "output_type": "stream",
     "text": [
      "Olá, Mundo! Bem-vindo ao Gerenciador de Tarefas.\n"
     ]
    }
   ],
   "source": [
    "# Hello World\n",
    "print(\"Olá, Mundo! Bem-vindo ao Gerenciador de Tarefas.\")"
   ]
  },
  {
   "cell_type": "code",
   "execution_count": 12,
   "metadata": {},
   "outputs": [
    {
     "name": "stdout",
     "output_type": "stream",
     "text": [
      "Olá, Leo. Vamos organizar suas tarefas!\n"
     ]
    }
   ],
   "source": [
    "# Função print() e input()\n",
    "nome_usuario = input(\"Por favor, digite seu nome: \")\n",
    "print(f\"Olá, {nome_usuario}. Vamos organizar suas tarefas!\")"
   ]
  },
  {
   "cell_type": "code",
   "execution_count": 13,
   "metadata": {},
   "outputs": [],
   "source": [
    "# Tipos de Variáveis\n",
    "tarefa_id = 1  # Inteiro\n",
    "descricao = \"Comprar leite\"  # String\n",
    "completa = False  # Boolean"
   ]
  },
  {
   "cell_type": "code",
   "execution_count": 14,
   "metadata": {},
   "outputs": [],
   "source": [
    "# Listas e Dicionários\n",
    "tarefas_iniciais = [{\"id\": tarefa_id,\n",
    "            \"descricao\": descricao, \n",
    "            \"completa\": completa}]  # Lista de dicionários\n"
   ]
  },
  {
   "cell_type": "code",
   "execution_count": 15,
   "metadata": {},
   "outputs": [],
   "source": [
    "# Função para listar tarefas\n",
    "def listar_tarefas(tarefas):\n",
    "    print(\"\\nSua lista de tarefas:\")\n",
    "    for tarefa in tarefas:\n",
    "        estado = \"completa\" if tarefa[\"completa\"] else \"incompleta\"\n",
    "        print(f\"ID: {tarefa['id']}, Descrição: {tarefa['descricao']}, Estado: {estado}\")"
   ]
  },
  {
   "cell_type": "code",
   "execution_count": 16,
   "metadata": {},
   "outputs": [],
   "source": [
    "# Classe, Métodos e Atributos\n",
    "class GerenciadorTarefas:\n",
    "    def __init__(self, usuario, tarefas_iniciais):\n",
    "        self.usuario = usuario\n",
    "        self.tarefas = tarefas_iniciais\n",
    "        self.tarefa_id = len(tarefas_iniciais)\n",
    "    \n",
    "    def adicionar_tarefa(self, descricao):\n",
    "        self.tarefa_id += 1\n",
    "        self.tarefas.append({\"id\": self.tarefa_id, \"descricao\": descricao, \"completa\": False})\n",
    "    \n",
    "    def completar_tarefa(self, id_tarefa):\n",
    "        for tarefa in self.tarefas:\n",
    "            if tarefa['id'] == id_tarefa:\n",
    "                tarefa['completa'] = True\n",
    "                return \"Tarefa completada!\"\n",
    "        return \"Tarefa não encontrada!\"\n"
   ]
  },
  {
   "cell_type": "code",
   "execution_count": 7,
   "metadata": {},
   "outputs": [],
   "source": [
    "# Criando um objeto da classe GerenciadorTarefas\n",
    "gerenciador = GerenciadorTarefas(nome_usuario, tarefas_iniciais)\n"
   ]
  },
  {
   "cell_type": "code",
   "execution_count": 17,
   "metadata": {},
   "outputs": [
    {
     "name": "stdout",
     "output_type": "stream",
     "text": [
      "\n",
      "O que você gostaria de fazer?\n",
      "1: Listar tarefas\n",
      "2: Adicionar nova tarefa\n",
      "3: Completar tarefa\n",
      "4: Sair\n",
      "\n",
      "Sua lista de tarefas:\n",
      "ID: 1, Descrição: Comprar leite, Estado: completa\n",
      "ID: 2, Descrição: comprar ovo, Estado: incompleta\n",
      "\n",
      "O que você gostaria de fazer?\n",
      "1: Listar tarefas\n",
      "2: Adicionar nova tarefa\n",
      "3: Completar tarefa\n",
      "4: Sair\n",
      "Tarefa adicionada com sucesso!\n",
      "\n",
      "O que você gostaria de fazer?\n",
      "1: Listar tarefas\n",
      "2: Adicionar nova tarefa\n",
      "3: Completar tarefa\n",
      "4: Sair\n",
      "Tarefa completada!\n",
      "\n",
      "O que você gostaria de fazer?\n",
      "1: Listar tarefas\n",
      "2: Adicionar nova tarefa\n",
      "3: Completar tarefa\n",
      "4: Sair\n",
      "Obrigado por usar o Gerenciador de Tarefas. Até mais!\n"
     ]
    }
   ],
   "source": [
    "# Loop principal\n",
    "while True:\n",
    "    print(\"\\nO que você gostaria de fazer?\")\n",
    "    print(\"1: Listar tarefas\")\n",
    "    print(\"2: Adicionar nova tarefa\")\n",
    "    print(\"3: Completar tarefa\")\n",
    "    print(\"4: Sair\")\n",
    "    \n",
    "    escolha = input(\"Escolha uma opção: \")\n",
    "    \n",
    "    if escolha == \"1\":\n",
    "        listar_tarefas(gerenciador.tarefas)\n",
    "    elif escolha == \"2\":\n",
    "        nova_tarefa = input(\"Digite a descrição da nova tarefa: \")\n",
    "        gerenciador.adicionar_tarefa(nova_tarefa)\n",
    "        print(\"Tarefa adicionada com sucesso!\")\n",
    "    elif escolha == \"3\":\n",
    "        id_tarefa = int(input(\"Digite o ID da tarefa que deseja completar: \"))\n",
    "        resultado = gerenciador.completar_tarefa(id_tarefa)\n",
    "        print(resultado)\n",
    "    elif escolha == \"4\":\n",
    "        print(\"Obrigado por usar o Gerenciador de Tarefas. Até mais!\")\n",
    "        break\n",
    "    else:\n",
    "        print(\"Opção inválida. Tente novamente.\")\n"
   ]
  },
  {
   "cell_type": "code",
   "execution_count": 18,
   "metadata": {},
   "outputs": [
    {
     "name": "stdout",
     "output_type": "stream",
     "text": [
      "\n",
      "Sua lista de tarefas:\n",
      "ID: 1, Descrição: Comprar leite, Estado: completa\n",
      "ID: 2, Descrição: comprar ovo, Estado: incompleta\n",
      "ID: 3, Descrição: estudar python, Estado: incompleta\n"
     ]
    }
   ],
   "source": [
    "listar_tarefas(gerenciador.tarefas)"
   ]
  },
  {
   "cell_type": "code",
   "execution_count": 5,
   "metadata": {},
   "outputs": [],
   "source": [
    "# # Função para listar tarefas\n",
    "# def listar_tarefas():\n",
    "#     print(\"\\nSua lista de tarefas:\")\n",
    "#     for tarefa in tarefas:\n",
    "#         estado = \"completa\" if tarefa[\"completa\"] else \"incompleta\"\n",
    "#         print(f\"ID: {tarefa['id']}, Descrição: {tarefa['descricao']}, Estado: {estado}\")\n"
   ]
  },
  {
   "cell_type": "code",
   "execution_count": 6,
   "metadata": {},
   "outputs": [],
   "source": [
    "# # Classe, Métodos e Atributos\n",
    "# class GerenciadorTarefas:\n",
    "#     def __init__(self, usuario):\n",
    "#         self.usuario = usuario\n",
    "\n",
    "#     def adicionar_tarefa(self, descricao):\n",
    "#         global tarefa_id\n",
    "#         tarefa_id += 1\n",
    "#         tarefas.append({\"id\": tarefa_id, \"descricao\": descricao, \"completa\": False})\n",
    "\n",
    "#     def completar_tarefa(self, id_tarefa):\n",
    "#         for tarefa in tarefas:\n",
    "#             if tarefa['id'] == id_tarefa:\n",
    "#                 tarefa['completa'] = True\n",
    "#                 return \"Tarefa completada!\"\n",
    "#         return \"Tarefa não encontrada!\""
   ]
  },
  {
   "cell_type": "code",
   "execution_count": 7,
   "metadata": {},
   "outputs": [],
   "source": [
    "# # Criando um objeto da classe GerenciadorTarefas\n",
    "# gerenciador = GerenciadorTarefas(nome_usuario)"
   ]
  },
  {
   "cell_type": "code",
   "execution_count": 8,
   "metadata": {},
   "outputs": [
    {
     "name": "stdout",
     "output_type": "stream",
     "text": [
      "\n",
      "O que você gostaria de fazer?\n",
      "1: Listar tarefas\n",
      "2: Adicionar nova tarefa\n",
      "3: Completar tarefa\n",
      "4: Sair\n",
      "\n",
      "Sua lista de tarefas:\n",
      "ID: 1, Descrição: Comprar leite, Estado: incompleta\n",
      "\n",
      "O que você gostaria de fazer?\n",
      "1: Listar tarefas\n",
      "2: Adicionar nova tarefa\n",
      "3: Completar tarefa\n",
      "4: Sair\n",
      "Tarefa adicionada com sucesso!\n",
      "\n",
      "O que você gostaria de fazer?\n",
      "1: Listar tarefas\n",
      "2: Adicionar nova tarefa\n",
      "3: Completar tarefa\n",
      "4: Sair\n",
      "\n",
      "Sua lista de tarefas:\n",
      "ID: 1, Descrição: Comprar leite, Estado: incompleta\n",
      "ID: 2, Descrição: comprar leite, Estado: incompleta\n",
      "\n",
      "O que você gostaria de fazer?\n",
      "1: Listar tarefas\n",
      "2: Adicionar nova tarefa\n",
      "3: Completar tarefa\n",
      "4: Sair\n",
      "Obrigado por usar o Gerenciador de Tarefas. Até mais!\n"
     ]
    }
   ],
   "source": [
    "# # Loop principal\n",
    "# while True:\n",
    "#     print(\"\\nO que você gostaria de fazer?\")\n",
    "#     print(\"1: Listar tarefas\")\n",
    "#     print(\"2: Adicionar nova tarefa\")\n",
    "#     print(\"3: Completar tarefa\")\n",
    "#     print(\"4: Sair\")\n",
    "\n",
    "#     escolha = input(\"Escolha uma opção: \")\n",
    "\n",
    "#     if escolha == \"1\":\n",
    "#         listar_tarefas()\n",
    "#     elif escolha == \"2\":\n",
    "#         nova_tarefa = input(\"Digite a descrição da nova tarefa: \")\n",
    "#         gerenciador.adicionar_tarefa(nova_tarefa)\n",
    "#         print(\"Tarefa adicionada com sucesso!\")\n",
    "#     elif escolha == \"3\":\n",
    "#         id_tarefa = int(input(\"Digite o ID da tarefa que deseja completar: \"))\n",
    "#         resultado = gerenciador.completar_tarefa(id_tarefa)\n",
    "#         print(resultado)\n",
    "#     elif escolha == \"4\":\n",
    "#         print(\"Obrigado por usar o Gerenciador de Tarefas. Até mais!\")\n",
    "#         break\n",
    "#     else:\n",
    "#         print(\"Opção inválida. Tente novamente.\")"
   ]
  },
  {
   "cell_type": "code",
   "execution_count": null,
   "metadata": {},
   "outputs": [],
   "source": []
  }
 ],
 "metadata": {
  "kernelspec": {
   "display_name": "Python 3",
   "language": "python",
   "name": "python3"
  },
  "language_info": {
   "codemirror_mode": {
    "name": "ipython",
    "version": 3
   },
   "file_extension": ".py",
   "mimetype": "text/x-python",
   "name": "python",
   "nbconvert_exporter": "python",
   "pygments_lexer": "ipython3",
   "version": "3.8.5"
  },
  "orig_nbformat": 4
 },
 "nbformat": 4,
 "nbformat_minor": 2
}
